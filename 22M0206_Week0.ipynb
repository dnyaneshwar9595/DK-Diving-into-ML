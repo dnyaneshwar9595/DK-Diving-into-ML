{
 "cells": [
  {
   "cell_type": "markdown",
   "metadata": {
    "id": "0q8CIlBHRxKv"
   },
   "source": [
    "# **Week 0 : Introduction to Python**\n",
    "In this assignment, we shall be providing a class template where you have to fill code in indicated areas. Let's get started!\n"
   ]
  },
  {
   "cell_type": "markdown",
   "metadata": {
    "id": "m4b3tHfuTOrh"
   },
   "source": [
    "<img src=\"https://www.python.org/static/community_logos/python-logo-master-v3-TM.png\"\n",
    " style=\"float:right;width:50px;height:50px;\">"
   ]
  },
  {
   "cell_type": "markdown",
   "metadata": {
    "id": "tK5oDi2_bRFD"
   },
   "source": [
    "# **Importing Libraries**\n",
    "Feel free to import any additional libraries required"
   ]
  },
  {
   "cell_type": "code",
   "execution_count": 6,
   "metadata": {
    "id": "tDaWKbPibNj1"
   },
   "outputs": [],
   "source": [
    "# Import all libraries here\n",
    "import numpy as np\n",
    "# import matplotlib as plt\n",
    "import time\n",
    "import pandas as pd\n",
    "np.random.seed(0)\n",
    "import matplotlib.pyplot as plt\n",
    "%matplotlib inline\n",
    "# Setting the seed for reproducible results\n"
   ]
  },
  {
   "cell_type": "markdown",
   "metadata": {
    "id": "M0kNSQmBYip0"
   },
   "source": [
    "# *Problem 1*\n",
    "In this problem, we will explore the concept of vectorising processes. Hence, we will focus upon eliminating as many for loops as possible and compare performance with and without for loops using python libraries.\n",
    "We will be computing\n",
    "\\begin{equation}\n",
    "s = \\sum_{i=1}^{N}w.v[i]\n",
    "\\end{equation}\n",
    "for a given matrix \n",
    "\\begin{equation}\n",
    "M = [v(1)\\text{  }v(2){}_{\\cdots}\\text{  }v(N)]\n",
    "\\end{equation}\n",
    "\n",
    "In the function : \\\\\n",
    "1. iterative_mult(w) : Iteratively multiply the row vector w with each of the columns of the matrix M (using a for loop), and return the addition of all results.\n",
    "2. matrix_mult(w) : Multiply the row vector w with the matrix M and add the resulting columns using a function of the numpy library.\n",
    "3. comparison(w) : Call the previous two functions here and measure the time taken in each of them using a python library. Store the times in variables time_iterative, time_matrix."
   ]
  },
  {
   "cell_type": "code",
   "execution_count": 7,
   "metadata": {
    "id": "k8IPZ0BmVpKv"
   },
   "outputs": [],
   "source": [
    "class Tester : \n",
    "\n",
    "    def __init__(self, M) :  \n",
    "        self.M = M\n",
    "    \n",
    "    def iterative_mult(self,w) :\n",
    "        s = 0\n",
    "        \n",
    "    ### INSERT CODE BELOW  ###\n",
    "       \n",
    "        # iterate through columns of Matrix B\n",
    "        for i in range(self.M.shape[1]):\n",
    "            # iterate through rows of Matrix B\n",
    "            for j in range(w.shape[1]):\n",
    "                s += w[0][j] * self.M[j][i] \n",
    "        \n",
    "        return s\n",
    "    \n",
    "    ### INSERT CODE ABOVE ### \n",
    "\n",
    "    def matrix_mult(self,w) :\n",
    "        \n",
    "\n",
    "    ### INSERT CODE BELOW  ###\n",
    "        s = np.sum(np.dot(w,self.M))\n",
    "        \n",
    "        return s\n",
    "    ### INSERT CODE ABOVE ###\n",
    "\n",
    "    def comparison(self,w) :\n",
    "\n",
    "        time_iterative = 0\n",
    "        time_matrix = 0\n",
    "\n",
    "    ### INSERT CODE BELOW  ###\n",
    "        \n",
    "        start1 = time.time()\n",
    "        list_1 = self.iterative_mult(w)\n",
    "        end1 = time.time()\n",
    "        time_iterative = end1 - start1  \n",
    "       \n",
    "        start2 = time.time()\n",
    "        list_2 = self.matrix_mult(w)\n",
    "        end2 = time.time()\n",
    "        time_matrix = end2 - start2\n",
    "        \n",
    "    \n",
    "    ### INSERT CODE ABOVE ###\n",
    "\n",
    "        print(f'Time taken by iterative method : {time_iterative}\\nTime taken by matrix method : {time_matrix}')\n",
    "\n",
    "        return time_iterative, time_matrix\n",
    "\n"
   ]
  },
  {
   "cell_type": "markdown",
   "metadata": {
    "id": "4onzhV4KcSAI"
   },
   "source": [
    "Now that we have created a tester class with some basic functionality of performance analysis, we will plot the time taken in both the methods of computing the required quantity. That is, given a row vector w, we want to compute :              \n",
    "\n",
    "\\begin{equation}\n",
    "s = \\sum_{i=1}^{N}w.v(i)\n",
    "\\end{equation}\n",
    "For this purpose, we will use the matplotlib library in python. "
   ]
  },
  {
   "cell_type": "code",
   "execution_count": 13,
   "metadata": {
    "id": "AUvkFgHxftZ_"
   },
   "outputs": [
    {
     "name": "stdout",
     "output_type": "stream",
     "text": [
      "Time taken by iterative method : 0.0\n",
      "Time taken by matrix method : 0.0\n",
      "it_sum: 5.701474699923606\n",
      "np_sum: 5.701474699923606\n",
      "Time taken by iterative method : 0.0\n",
      "Time taken by matrix method : 0.0\n",
      "it_sum: -36.194104635241494\n",
      "np_sum: -36.194104635241494\n",
      "Time taken by iterative method : 0.014650821685791016\n",
      "Time taken by matrix method : 0.0\n",
      "it_sum: 150.08085028285782\n",
      "np_sum: 150.08085028285782\n",
      "Time taken by iterative method : 0.035103559494018555\n",
      "Time taken by matrix method : 0.0\n",
      "it_sum: 142.38419036298524\n",
      "np_sum: 142.38419036298524\n",
      "Time taken by iterative method : 0.4574580192565918\n",
      "Time taken by matrix method : 0.0\n",
      "it_sum: -175.7936472194218\n",
      "np_sum: -175.7936472194218\n",
      "Time taken by iterative method : 4.174432277679443\n",
      "Time taken by matrix method : 0.015012025833129883\n"
     ]
    },
    {
     "name": "stderr",
     "output_type": "stream",
     "text": [
      "No artists with labels found to put in legend.  Note that artists whose label start with an underscore are ignored when legend() is called with no argument.\n"
     ]
    },
    {
     "name": "stdout",
     "output_type": "stream",
     "text": [
      "it_sum: -499.6373072493259\n",
      "np_sum: -499.6373072493259\n"
     ]
    },
    {
     "data": {
      "text/plain": [
       "<matplotlib.legend.Legend at 0x28880028f40>"
      ]
     },
     "execution_count": 13,
     "metadata": {},
     "output_type": "execute_result"
    },
    {
     "data": {
      "image/png": "[encoded data removed]",
      "text/plain": [
       "<Figure size 640x480 with 1 Axes>"
      ]
     },
     "metadata": {},
     "output_type": "display_data"
    }
   ],
   "source": [
    "w = np.random.randn(1, 100)\n",
    "results_it = []\n",
    "results_mat = []\n",
    "max_pow = 6\n",
    "size1=[]\n",
    "for i in range(max_pow): \n",
    "    \n",
    "    size = np.round(10**i)\n",
    "    M = np.random.randn(100, size)\n",
    "    tester = Tester(M)\n",
    "    size1.append(size)\n",
    "  ### INSERT CODE BELOW ###\n",
    "\n",
    "    x, y = tester.comparison(w)\n",
    "    results_it.append(x)\n",
    "    results_mat.append(y)\n",
    "\n",
    "  ### INSERT CODE ABOVE ###\n",
    "    it_sum = tester.iterative_mult(w)\n",
    "    print(\"it_sum:\", it_sum)\n",
    "\n",
    "    np_sum = tester.matrix_mult(w)\n",
    "    print(\"np_sum:\", it_sum)\n",
    "'''\n",
    "Now, plot the (line) graph with the axes as : \n",
    "1. X-axis : The 2nd dimension of the matrix M\n",
    "2. Y-axis : The times taken for the two processes\n",
    "\n",
    "Additionally, you must use a legend in order to distinguish the graphs of the two processes.\n",
    "'''\n",
    "\n",
    "### INSERT CODE BELOW ###\n",
    "\n",
    "\n",
    "plt.style.use(\"classic\")\n",
    "plt.plot(size1,results_it);\n",
    "plt.plot(size1,results_mat);\n",
    "# plt.xlim(0, 0.5)\n",
    "plt.xlabel(\"2nd dimension of the matrix M\")\n",
    "plt.ylabel(\"Time taken by two processes\")\n",
    "plt.title(\"Time Comparison\")\n",
    "plt.legend()\n",
    "\n",
    "### INSERT CODE ABOVE ###"
   ]
  },
  {
   "cell_type": "markdown",
   "metadata": {
    "id": "n_tp5arYsWN9"
   },
   "source": [
    "# **Observations**\n",
    "\n",
    "Now that we have successfully plotted the graphs, you can comment on the differences in the two times of computation. Please write your observations in the text box provided below. Make sure to note down the following : \\\\\n",
    "1. The approximate order of times obtained in the two processes (s/ms/$\\mu$s/ns)\n",
    "2. The method which results in lower computation times and by what factor\n",
    "3. Some possible explanation for your observation (after some googling perhaps)"
   ]
  },
  {
   "cell_type": "markdown",
   "metadata": {
    "id": "kTQfyDLxtq01"
   },
   "source": [
    "# My Observations\n",
    "1) Time taken by iterative multiplication is very high as compared to matrix multiplication\n",
    "\n",
    "2) Matrix multiplication takes very minimal time for huge iterations as well and its value comes equal to zero for less number of iterations and small dimension matrix\n",
    "\n",
    "3) After certain iteration time taken gap is huge in two methods."
   ]
  },
  {
   "cell_type": "markdown",
   "metadata": {
    "id": "dIH2wqFnpfHj"
   },
   "source": [
    "# *Problem 2*\n",
    "\n",
    "In this assignment, you will be loading the famous [MNIST](http://yann.lecun.com/exdb/mnist/) dataset (a large dataset of hand-written images of numbers) from a *CSV* (comma separated values) file and performing various operations on them. \n",
    "\n",
    "Enjoy!\n",
    "\n",
    "\n"
   ]
  },
  {
   "cell_type": "markdown",
   "metadata": {
    "id": "gynBLuybpt0N"
   },
   "source": [
    "\n",
    "<img src=\"https://journaldev.nyc3.digitaloceanspaces.com/2020/10/mnist-dataset.png\"\n",
    " style=\"float:right;width:500px;height:500px;\">"
   ]
  },
  {
   "cell_type": "markdown",
   "metadata": {
    "id": "m44OKyYhpwV-"
   },
   "source": [
    "# **Loading Data**\n",
    "Let's start by loading the csv file in the main repo. Figure out how to load a file onto Google Colab (or whichever notebook you're using). The data can be downloaded from [here](https://drive.google.com/file/d/1p-rZZRrdbK05uIwRvwnkinpJI5o2griD/view?usp=share_link)\n"
   ]
  },
  {
   "cell_type": "code",
   "execution_count": null,
   "metadata": {
    "id": "kPt2MwMDp2n8"
   },
   "outputs": [],
   "source": [
    "# Insert code to load the csv file into the notebook\n",
    "df = pd.read_csv('C:/Users/dnyan/OneDrive/Desktop/Dive into ML/mnist.csv')\n"
   ]
  },
  {
   "cell_type": "markdown",
   "metadata": {
    "id": "M_OrOB1_p4Gv"
   },
   "source": [
    "# **Reading from a CSV File**\n",
    "Now, let's read the values from the csv file! If you were to look into the file, you would see that each row has a long list of numbers, with the first column having numbers between **$0$ and $9$**, and the remaining columns having values from **$0$ to $255$** (make any sense?)\n",
    "\n",
    "Feel free to store the data in any way you want, to set up future operations with those rows (you might want to read the following tasks before deciding how you would store this data, if it helps). \n",
    "\n",
    "Also, make use of the `csv` module to read csv files. There are many other ways, but this should do for this assignment at least."
   ]
  },
  {
   "cell_type": "code",
   "execution_count": null,
   "metadata": {
    "id": "Hlw5xlGvp-aW"
   },
   "outputs": [],
   "source": [
    "# Insert code to store the contents of the file in a variable (or many variables, if you want)\n",
    "import matplotlib.pyplot as plt\n",
    "df.shape\n",
    "import pandas as pd\n",
    "data = df.to_numpy()"
   ]
  },
  {
   "cell_type": "markdown",
   "metadata": {
    "id": "le_5vpHDqCca"
   },
   "source": [
    "# **Organising Data**\n",
    "\n",
    "If you didn't figure out what the first column was supposed to be, no worries : they are the labels of the corresponding images. The remaining $784$ columns ($28 \\times 28$) correspond to the *gray-scale pixel values* of the $784$ pixels present in each image of a number.\n",
    "\n",
    "For example, the first row in the dataset has a label of $7$, signifying that the next $784$ values correspond to an image of the number $7$. These $784$ pixels are ordered **row-wise**, so the first $28$ are for the first row, the next $28$ for the second, and so on.\n",
    "\n",
    "Your tasks are the following : \n",
    "\n",
    "* Separate out the first column of values and store them separately as labels, you'll need them later\n",
    "\n",
    "* Once you're done with that, reshape the rows (after the removal of the labels) into matrices with dimension $28 \\times 28$ (If you've learnt *anything* from the first assignment, it should be to avoid using loops as much as possible, so think of, or search for, an inbuilt function that can reshape a matrix)\n",
    "\n",
    "**Note** : Just like vectors have a *depth* of $1$ and matrices have a *depth* of $2$, `NumPy` supports objects that can have a *depth* greater than $2$. \n",
    "\n",
    "This generalisation can be thought of as a **Tensor**, and the *depth* is called the *rank* or the *order* of the Tensor. If you've stored your initial data as a matrix, try and reshape it into a tensor of rank $3$, for the second task."
   ]
  },
  {
   "cell_type": "code",
   "execution_count": null,
   "metadata": {
    "id": "FVTpVOILqFsg"
   },
   "outputs": [],
   "source": [
    "# Write your code here\n",
    "\n",
    "im = data[0, 1: ]\n",
    "\n",
    "im = im.reshape(28,28)\n",
    "\n"
   ]
  },
  {
   "cell_type": "markdown",
   "metadata": {
    "id": "etE1DamBqJ2D"
   },
   "source": [
    "# **Plotting images**\n",
    "Now that you have the data, in the form we want it in, go ahead and plot the first image! (Google it!)"
   ]
  },
  {
   "cell_type": "code",
   "execution_count": null,
   "metadata": {
    "id": "u5JakJ_PqMZ9"
   },
   "outputs": [],
   "source": [
    "# Write your code here\n",
    "\n",
    "plt.imshow(im, cmap=plt.get_cmap('gray'))"
   ]
  },
  {
   "cell_type": "markdown",
   "metadata": {
    "id": "WNmWhDN-qP-j"
   },
   "source": [
    "# **Grouping Images**\n",
    "\n",
    "Let's try and group those images together, based on their labels. This is slightly (maybe more than slightly) harder to understand (just using inbuilt functions), but the objective is the same : To try and minimise the number of iterations performed outside of NumPy\n",
    "\n",
    "Hint : You could also do this with $10$ iterations, which is the number of digits, and with $60000$ iterations, which is the number of images we have, so if you can't find any way without loops, try to find a way with $10$ iterations rather than $60000$"
   ]
  },
  {
   "cell_type": "code",
   "execution_count": null,
   "metadata": {
    "id": "Loxdwb-TqQ5O"
   },
   "outputs": [],
   "source": [
    "# Write your code here\n",
    "mydict = {}\n",
    "for i in range(10):\n",
    "    mydict[i] = np.where(data[:,0]==i)\n",
    "\n",
    "all_num = data[mydict[1]]\n",
    "all_num = all_num[:, 1:]\n",
    "plt.imshow(np.reshape(all_num[10], (28,28)),cmap=plt.get_cmap('gray'))\n",
    "    \n"
   ]
  },
  {
   "cell_type": "markdown",
   "metadata": {
    "id": "TQrWoJw9qU9I"
   },
   "source": [
    "# **Computing Mean Images**\n",
    "\n",
    "Now that we have our data grouped, let's try to calculate the mean of the images corresponding to a particular label.\n",
    "\n",
    "Don't forget to plot all of them!"
   ]
  },
  {
   "cell_type": "code",
   "execution_count": null,
   "metadata": {
    "id": "Dp8jlsfOqWOk"
   },
   "outputs": [],
   "source": [
    "# Write your code here for an array of 10 images, each representing the mean image of a number from 0 to 9, in order. Also plot them!\n",
    "\n",
    "for i in range(10):\n",
    "    all_digit = data[mydict[i]]\n",
    "    all_digit = all_digit[:, 1:]\n",
    "    reshape_all = np.reshape(all_digit, (all_digit.shape[0], 28, 28))\n",
    "    means = np.mean(reshape_all, axis=0)\n",
    "plt.imshow(means,cmap=plt.get_cmap('gray'))\n"
   ]
  },
  {
   "cell_type": "markdown",
   "metadata": {
    "id": "jYwZ3wlVt8eq"
   },
   "source": [
    "# **Submission**\n",
    "\n",
    "Please upload the edited version of this notebook in the github classroom, with your file labelled as \\<roll_number\\>_week0.ipynb"
   ]
  }
 ],
 "metadata": {
  "colab": {
   "provenance": []
  },
  "kernelspec": {
   "display_name": "Python 3 (ipykernel)",
   "language": "python",
   "name": "python3"
  },
  "language_info": {
   "codemirror_mode": {
    "name": "ipython",
    "version": 3
   },
   "file_extension": ".py",
   "mimetype": "text/x-python",
   "name": "python",
   "nbconvert_exporter": "python",
   "pygments_lexer": "ipython3",
   "version": "3.9.12"
  }
 },
 "nbformat": 4,
 "nbformat_minor": 1
}
